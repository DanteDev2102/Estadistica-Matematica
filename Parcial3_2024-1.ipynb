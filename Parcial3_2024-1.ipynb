{
 "cells": [
  {
   "cell_type": "markdown",
   "metadata": {
    "id": "2_fUc94bLCqv"
   },
   "source": [
    "## Indique aquí Cédula, Nombres y apellidos"
   ]
  },
  {
   "cell_type": "markdown",
   "metadata": {},
   "source": []
  },
  {
   "cell_type": "markdown",
   "metadata": {
    "id": "m_Tn5M1_KjlD"
   },
   "source": [
    "# Trabajo de Estadística Matemáticas\n",
    "\n",
    "*   Fecha de entrega: 06/12/2024.\n",
    "\n",
    "El archivo data.csv incluye un número de ejemplos de beneficiarios inscritos en un plan de seguro indicando las características del paciente, así como el total de gastos médicos cargados (charges) al plan para el año calendario.\n",
    "\n",
    "Las características son:\n",
    "\n",
    "* Edad (age): un número entero que indica la edad del beneficiario principal (excluyendo los mayores de 64 años, ya que generalmente están cubiertos por el gobierno de Estados Unidos).\n",
    "\n",
    "* Sexo (sex): el sexo del titular de la póliza, ya sea masculino o femenino.\n",
    "\n",
    "* Bmi: el índice de masa corporal. El bmi es igual al peso (en kilogramos) divididos por altura (en metros) al cuadrado. Un bmi ideal está en un rango de 18.5 a 24.9.\n",
    "\n",
    "* Hijos (children): un número entero que indica el número de hijos dependientes cubiertos por el plan de seguro.\n",
    "\n",
    "* Fumador (smoker): una variable categórica que indica si el asegurado fuma regularmente.\n",
    "* Región: el lugar de residencia del beneficiario en los Estados Unidos, dividido en cuatro regiones geográficas: noreste, sureste, suroeste o noroeste.\n",
    "\n",
    "Observe que estas variables pueden estar relacionadas con las facturas de gastos médicos. Por\n",
    "ejemplo, podríamos esperar que las personas mayores y los fumadores estén en mayor riesgo de\n",
    "grandes gastos médicos."
   ]
  },
  {
   "cell_type": "markdown",
   "metadata": {
    "id": "UAHwbco7MCdZ"
   },
   "source": [
    "## 1. Realice una exploración sobre los datos (estadísticas descriptivas)."
   ]
  },
  {
   "cell_type": "code",
   "execution_count": null,
   "metadata": {
    "id": "n9URam69KiE0"
   },
   "outputs": [],
   "source": [
    "## Escriba aquí su repuesta"
   ]
  },
  {
   "cell_type": "markdown",
   "metadata": {
    "id": "e-5LZvA7MV-k"
   },
   "source": [
    "## 2. Calcule la relación entre las variables (matriz de correlaciones)."
   ]
  },
  {
   "cell_type": "code",
   "execution_count": null,
   "metadata": {
    "id": "jXzCcHLCM4LJ"
   },
   "outputs": [],
   "source": [
    "## Escriba aquí su repuesta"
   ]
  },
  {
   "cell_type": "markdown",
   "metadata": {
    "id": "eD8EgGwzM71x"
   },
   "source": [
    "## 3. Visualice la relación entre las variables (gráficos)."
   ]
  },
  {
   "cell_type": "code",
   "execution_count": null,
   "metadata": {
    "id": "zD0Zko0KM28P"
   },
   "outputs": [],
   "source": [
    "## Escriba aquí su repuesta"
   ]
  },
  {
   "cell_type": "markdown",
   "metadata": {
    "id": "zKsPzkP-NGoQ"
   },
   "source": [
    "## 4. Contraste la hipótesis de que en las 4 regiones se tiene en promedio el mismo índice de masa corporal bmi (Análisis de varianzas)."
   ]
  },
  {
   "cell_type": "code",
   "execution_count": null,
   "metadata": {
    "id": "iAJKgIR4NNFs"
   },
   "outputs": [],
   "source": [
    "## Escriba aquí su repuesta"
   ]
  },
  {
   "cell_type": "markdown",
   "metadata": {
    "id": "hrZl7j9nNhUg"
   },
   "source": [
    "## 5. Obtenga un modelo lineal que pueda predecir el total de gastos médicos cargados para un beneficiario."
   ]
  },
  {
   "cell_type": "code",
   "execution_count": null,
   "metadata": {
    "id": "-f_8wuv4NpEz"
   },
   "outputs": [],
   "source": [
    "## Escriba aquí su repuesta"
   ]
  },
  {
   "cell_type": "markdown",
   "metadata": {
    "id": "6ky0uyBhNxBB"
   },
   "source": [
    "## 6. Contraste la hipótesis $H_0: \\beta_i=0$ vs $H_1: \\beta_i\\neq 0$. Donde son los coeficientes del modelo."
   ]
  },
  {
   "cell_type": "code",
   "execution_count": null,
   "metadata": {
    "id": "HRmjKSHgOVB_"
   },
   "outputs": [],
   "source": [
    "## Escriba aquí su repuestas"
   ]
  },
  {
   "cell_type": "markdown",
   "metadata": {
    "id": "PWkj9ps2OcDR"
   },
   "source": [
    "## 7. Calcule el coeficiente de determinación."
   ]
  },
  {
   "cell_type": "code",
   "execution_count": null,
   "metadata": {
    "id": "iElhuYCFbsVi"
   },
   "outputs": [],
   "source": [
    "## Escriba aquí su repuesta"
   ]
  },
  {
   "cell_type": "markdown",
   "metadata": {
    "id": "GP5vAn7LbvQO"
   },
   "source": [
    "## 8. Realice un análisis de los residuos."
   ]
  },
  {
   "cell_type": "code",
   "execution_count": null,
   "metadata": {
    "id": "rzmUYreab3zs"
   },
   "outputs": [],
   "source": [
    "## Escriba aquí su repuesta"
   ]
  },
  {
   "cell_type": "markdown",
   "metadata": {
    "id": "PUcFt_FHhvxj"
   },
   "source": [
    "## 9. Incluya una nueva variable al modelo, la interacción entre las variables Fumador y BMI. Calcule el coeficiente de determinación para este modelo. Explique los resultados obtenidos."
   ]
  },
  {
   "cell_type": "code",
   "execution_count": null,
   "metadata": {
    "id": "XKrkoTKEib4A"
   },
   "outputs": [],
   "source": [
    "## Escriba aquí su repuesta"
   ]
  }
 ],
 "metadata": {
  "colab": {
   "provenance": []
  },
  "kernelspec": {
   "display_name": "Python 3",
   "name": "python3"
  },
  "language_info": {
   "name": "python"
  }
 },
 "nbformat": 4,
 "nbformat_minor": 0
}
