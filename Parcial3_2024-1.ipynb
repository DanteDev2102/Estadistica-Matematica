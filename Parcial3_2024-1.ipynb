{
 "cells": [
  {
   "cell_type": "markdown",
   "metadata": {
    "id": "2_fUc94bLCqv"
   },
   "source": [
    "## Integrantes\n",
    "\n",
    "### Jose Acosta - 27.738.080\n",
    "### Gloria Sanchez - 29.624.990\n",
    "### Mary Gomez - 30.334.762"
   ]
  },
  {
   "cell_type": "markdown",
   "metadata": {},
   "source": []
  },
  {
   "cell_type": "markdown",
   "metadata": {
    "id": "m_Tn5M1_KjlD"
   },
   "source": [
    "# Trabajo de Estadística Matemáticas\n",
    "\n",
    "*   Fecha de entrega: 06/12/2024.\n",
    "\n",
    "El archivo data.csv incluye un número de ejemplos de beneficiarios inscritos en un plan de seguro indicando las características del paciente, así como el total de gastos médicos cargados (charges) al plan para el año calendario.\n",
    "\n",
    "Las características son:\n",
    "\n",
    "* Edad (age): un número entero que indica la edad del beneficiario principal (excluyendo los mayores de 64 años, ya que generalmente están cubiertos por el gobierno de Estados Unidos).\n",
    "\n",
    "* Sexo (sex): el sexo del titular de la póliza, ya sea masculino o femenino.\n",
    "\n",
    "* Bmi: el índice de masa corporal. El bmi es igual al peso (en kilogramos) divididos por altura (en metros) al cuadrado. Un bmi ideal está en un rango de 18.5 a 24.9.\n",
    "\n",
    "* Hijos (children): un número entero que indica el número de hijos dependientes cubiertos por el plan de seguro.\n",
    "\n",
    "* Fumador (smoker): una variable categórica que indica si el asegurado fuma regularmente.\n",
    "* Región: el lugar de residencia del beneficiario en los Estados Unidos, dividido en cuatro regiones geográficas: noreste, sureste, suroeste o noroeste.\n",
    "\n",
    "Observe que estas variables pueden estar relacionadas con las facturas de gastos médicos. Por\n",
    "ejemplo, podríamos esperar que las personas mayores y los fumadores estén en mayor riesgo de\n",
    "grandes gastos médicos."
   ]
  },
  {
   "cell_type": "markdown",
   "metadata": {
    "id": "UAHwbco7MCdZ"
   },
   "source": [
    "## 1. Realice una exploración sobre los datos (estadísticas descriptivas)."
   ]
  },
  {
   "cell_type": "code",
   "execution_count": 19,
   "metadata": {
    "id": "n9URam69KiE0"
   },
   "outputs": [],
   "source": [
    "## Escriba aquí su repuesta"
   ]
  },
  {
   "cell_type": "markdown",
   "metadata": {
    "id": "e-5LZvA7MV-k"
   },
   "source": [
    "## 2. Calcule la relación entre las variables (matriz de correlaciones)."
   ]
  },
  {
   "cell_type": "code",
   "execution_count": 20,
   "metadata": {
    "id": "jXzCcHLCM4LJ"
   },
   "outputs": [],
   "source": [
    "## Escriba aquí su repuesta"
   ]
  },
  {
   "cell_type": "markdown",
   "metadata": {
    "id": "eD8EgGwzM71x"
   },
   "source": [
    "## 3. Visualice la relación entre las variables (gráficos)."
   ]
  },
  {
   "cell_type": "code",
   "execution_count": 21,
   "metadata": {
    "id": "zD0Zko0KM28P"
   },
   "outputs": [],
   "source": [
    "## Escriba aquí su repuesta"
   ]
  },
  {
   "cell_type": "markdown",
   "metadata": {
    "id": "zKsPzkP-NGoQ"
   },
   "source": [
    "## 4. Contraste la hipótesis de que en las 4 regiones se tiene en promedio el mismo índice de masa corporal bmi (Análisis de varianzas)."
   ]
  },
  {
   "cell_type": "code",
   "execution_count": 22,
   "metadata": {
    "id": "iAJKgIR4NNFs"
   },
   "outputs": [
    {
     "name": "stdout",
     "output_type": "stream",
     "text": [
      "\n",
      "Resultados:\n",
      "\n",
      "+----------+----------+------+---------+------------+\n",
      "|          |   sum_sq |   df |       F |     PR(>F) |\n",
      "|----------+----------+------+---------+------------|\n",
      "| region   |  4057.85 |    3 | 39.5132 | 1.8357e-24 |\n",
      "| Residual | 45665.5  | 1334 |  0      | 0          |\n",
      "+----------+----------+------+---------+------------+\n",
      "\n",
      "Se rechaza la hipótesis nula.\n",
      "Existe evidencia estadísticamente significativa para afirmar que el promedio de bmi no es igual en las cuatro regiones.\n"
     ]
    }
   ],
   "source": [
    "# Importar librerías\n",
    "import pandas as pd\n",
    "import statsmodels.formula.api as sm\n",
    "from statsmodels.stats.anova import anova_lm\n",
    "from tabulate import tabulate\n",
    "\n",
    "# Cargar los datos\n",
    "datos = pd.read_csv(\"./src/datos_.csv\")\n",
    "\n",
    "# Realizar el ANOVA\n",
    "modelo = sm.ols(\"bmi ~ region\", data=datos).fit()\n",
    "anova_tabla = anova_lm(modelo, typ=2)\n",
    "\n",
    "anova_tabla = anova_tabla.fillna(0)\n",
    "\n",
    "# Imprimir la tabla con título\n",
    "print(\"\\nResultados:\\n\")\n",
    "tabla_formateada = tabulate(anova_tabla, headers=\"keys\", tablefmt=\"psql\")\n",
    "print(tabla_formateada)\n",
    "\n",
    "# Interpretar los resultados\n",
    "valor_p = anova_tabla.iloc[0][\"PR(>F)\"]\n",
    "nivel_significancia = 0.05\n",
    "\n",
    "if valor_p < nivel_significancia:\n",
    "    print(\"\\nSe rechaza la hipótesis nula.\")\n",
    "    print(\n",
    "        \"Existe evidencia estadísticamente significativa para afirmar que el promedio de bmi no es igual en las cuatro regiones.\"\n",
    "    )\n",
    "else:\n",
    "    print(\"\\nNo se rechaza la hipótesis nula.\")\n",
    "    print(\n",
    "        \"No hay suficiente evidencia para afirmar que el promedio de bmi es diferente entre las regiones.\"\n",
    "    )"
   ]
  },
  {
   "cell_type": "markdown",
   "metadata": {
    "id": "hrZl7j9nNhUg"
   },
   "source": [
    "## 5. Obtenga un modelo lineal que pueda predecir el total de gastos médicos cargados para un beneficiario."
   ]
  },
  {
   "cell_type": "code",
   "execution_count": 23,
   "metadata": {
    "id": "-f_8wuv4NpEz"
   },
   "outputs": [
    {
     "name": "stdout",
     "output_type": "stream",
     "text": [
      "Gastos médicos calculados: 4030.289356494026\n",
      "\n"
     ]
    },
    {
     "data": {
      "image/png": "[encoded data removed]",
      "text/plain": [
       "<Figure size 640x480 with 1 Axes>"
      ]
     },
     "metadata": {},
     "output_type": "display_data"
    }
   ],
   "source": [
    "import pandas as pd\n",
    "import statsmodels.formula.api as sm\n",
    "import matplotlib.pyplot as plt\n",
    "\n",
    "# Cargar los datos\n",
    "datos = pd.read_csv(\"./src/datos_.csv\")\n",
    "\n",
    "# Convertir variables categóricas a numéricas\n",
    "datos = pd.get_dummies(datos, columns=[\"sex\", \"smoker\", \"region\"], drop_first=True)\n",
    "\n",
    "# Crear el modelo lineal\n",
    "modelo = sm.ols(\n",
    "    \"expenses ~ age + sex_male + bmi + children + smoker_yes + region_northwest + region_southeast + region_southwest\",\n",
    "    data=datos,\n",
    ").fit()\n",
    "\n",
    "\n",
    "# Función para predecir los gastos médicos\n",
    "def predecir_gastos(\n",
    "    age,\n",
    "    sex_male,\n",
    "    bmi,\n",
    "    children,\n",
    "    smoker_yes,\n",
    "    region_northwest,\n",
    "    region_southeast,\n",
    "    region_southwest,\n",
    "):\n",
    "\n",
    "    # Crear un diccionario con los valores de las variables predictoras\n",
    "    variables = {\n",
    "        \"age\": age,\n",
    "        \"sex_male\": sex_male,\n",
    "        \"bmi\": bmi,\n",
    "        \"children\": children,\n",
    "        \"smoker_yes\": smoker_yes,\n",
    "        \"region_northwest\": region_northwest,\n",
    "        \"region_southeast\": region_southeast,\n",
    "        \"region_southwest\": region_southwest,\n",
    "    }\n",
    "    # Crear un DataFrame con los valores de las variables predictoras\n",
    "    df_prediccion = pd.DataFrame([variables])\n",
    "    # Realizar la predicción utilizando el modelo\n",
    "    prediccion = modelo.predict(df_prediccion)\n",
    "\n",
    "    return prediccion[0]\n",
    "\n",
    "\n",
    "# Ejemplo de uso de la función\n",
    "gastos_predichos = predecir_gastos(\n",
    "    age=30,\n",
    "    sex_male=1,\n",
    "    bmi=25,\n",
    "    children=2,\n",
    "    smoker_yes=0,\n",
    "    region_northwest=0,\n",
    "    region_southeast=1,\n",
    "    region_southwest=0,\n",
    ")\n",
    "\n",
    "print(f\"Gastos médicos calculados: {gastos_predichos}\\n\")\n",
    "\n",
    "predicciones = modelo.predict(\n",
    "    datos\n",
    ")  # Obtener predicciones para todo el conjunto de datos\n",
    "\n",
    "# Crear histograma de las predicciones\n",
    "plt.hist(predicciones, bins=20)\n",
    "plt.xlabel(\"Gastos Médicos\")\n",
    "plt.ylabel(\"Frecuencia\")\n",
    "plt.title(\"Histograma de Gastos Médicos calculados\")\n",
    "plt.show()"
   ]
  },
  {
   "cell_type": "markdown",
   "metadata": {
    "id": "6ky0uyBhNxBB"
   },
   "source": [
    "## 6. Contraste la hipótesis $H_0: \\beta_i=0$ vs $H_1: \\beta_i\\neq 0$. Donde son los coeficientes del modelo."
   ]
  },
  {
   "cell_type": "code",
   "execution_count": 24,
   "metadata": {
    "id": "HRmjKSHgOVB_"
   },
   "outputs": [
    {
     "name": "stdout",
     "output_type": "stream",
     "text": [
      "\n",
      "Resultados:\n",
      "\n",
      "                               Coef.    Std.Err.           t        P>|t|      [0.025       0.975]  Rechazar H0\n",
      "Intercept                 -11941.6      987.811   -12.0889    5.38928e-32  -13879.4    -10003.7     Se rechaza H0 porque p (0.000) < 0.05\n",
      "sex_male[T.True]            -131.352    332.935    -0.394527  0.693255       -784.488     521.784   No se rechaza H0 porque p (0.693) >= 0.05\n",
      "smoker_yes[T.True]         23847.5      413.139    57.7226    0             23037       24658       Se rechaza H0 porque p (0.000) < 0.05\n",
      "region_northwest[T.True]    -352.79     476.261    -0.740749  0.458976      -1287.1       581.515   No se rechaza H0 porque p (0.459) >= 0.05\n",
      "region_southeast[T.True]   -1035.6      478.681    -2.16344   0.0306853     -1974.65      -96.5436  Se rechaza H0 porque p (0.031) < 0.05\n",
      "region_southwest[T.True]    -959.306    477.912    -2.00729   0.0449214     -1896.85      -21.7617  Se rechaza H0 porque p (0.045) < 0.05\n",
      "age                          256.839     11.8986   21.5857    7.90838e-89     233.497     280.181   Se rechaza H0 porque p (0.000) < 0.05\n",
      "bmi                          339.29      28.5983   11.864     6.23428e-31     283.187     395.393   Se rechaza H0 porque p (0.000) < 0.05\n",
      "children                     475.689    137.8       3.45203   0.000573843     205.36      746.017   Se rechaza H0 porque p (0.001) < 0.05\n"
     ]
    }
   ],
   "source": [
    "import pandas as pd\n",
    "import statsmodels.formula.api as sm\n",
    "from tabulate import tabulate\n",
    "\n",
    "# Cargar los datos\n",
    "datos = pd.read_csv(\"./src/datos_.csv\")\n",
    "\n",
    "# Convertir variables categóricas a numéricas usando one-hot encoding\n",
    "datos = pd.get_dummies(datos, columns=[\"sex\", \"smoker\", \"region\"], drop_first=True)\n",
    "\n",
    "# Crear el modelo lineal\n",
    "modelo = sm.ols(\n",
    "    \"expenses ~ age + sex_male + bmi + children + smoker_yes + region_northwest + region_southeast + region_southwest\",\n",
    "    data=datos,\n",
    ").fit()\n",
    "\n",
    "# Nivel de significancia\n",
    "nivel_significancia = 0.05\n",
    "\n",
    "# Obtener la tabla de resultados del modelo\n",
    "resultados = modelo.summary2().tables[1]\n",
    "\n",
    "# Personalizar la columna \"Rechazar H0\"\n",
    "resultados[\"Rechazar H0\"] = resultados.apply(\n",
    "    lambda fila: (\n",
    "        f\"Se rechaza H0 porque p ({fila['P>|t|']:.3f}) < {nivel_significancia}\"\n",
    "        if fila[\"P>|t|\"] < nivel_significancia\n",
    "        else f\"No se rechaza H0 porque p ({fila['P>|t|']:.3f}) >= {nivel_significancia}\"\n",
    "    ),\n",
    "    axis=1,\n",
    ")\n",
    "\n",
    "# Formatear los resultados como una lista ordenada\n",
    "headers = [\" \", \"Coef.\", \"Std.Err.\", \"t\", \"P>|t|\", \"[0.025\", \"0.975]\", \"Rechazar H0\"]\n",
    "tabla_formateada = tabulate(resultados, headers=headers, tablefmt=\"plain\")\n",
    "\n",
    "# Imprimir los resultados con el título \"Resultados\"\n",
    "print(\"\\nResultados:\\n\")\n",
    "print(tabla_formateada)"
   ]
  },
  {
   "cell_type": "markdown",
   "metadata": {
    "id": "PWkj9ps2OcDR"
   },
   "source": [
    "## 7. Calcule el coeficiente de determinación."
   ]
  },
  {
   "cell_type": "code",
   "execution_count": 26,
   "metadata": {
    "id": "iElhuYCFbsVi"
   },
   "outputs": [
    {
     "name": "stdout",
     "output_type": "stream",
     "text": [
      "Coeficiente de determinación: 0.7507516902763371\n"
     ]
    }
   ],
   "source": [
    "import pandas as pd\n",
    "from sklearn.linear_model import LinearRegression\n",
    "from sklearn.preprocessing import LabelEncoder\n",
    "\n",
    "data = pd.read_csv(\"./src/datos_.csv\")\n",
    "le = LabelEncoder()\n",
    "\n",
    "data[\"sex_aux\"] = le.fit_transform(data[\"sex\"])\n",
    "data[\"smoker_aux\"] = le.fit_transform(data[\"smoker\"])\n",
    "data[\"region_aux\"] = le.fit_transform(data[\"region\"])\n",
    "\n",
    "\n",
    "X = data[[\"age\", \"sex_aux\", \"bmi\", \"children\", \"smoker_aux\", \"region_aux\"]]\n",
    "y = data[\"expenses\"]\n",
    "\n",
    "model = LinearRegression()\n",
    "model.fit(X, y)\n",
    "\n",
    "r_squared = model.score(X, y)\n",
    "\n",
    "print(\"Coeficiente de determinación:\", r_squared)"
   ]
  },
  {
   "cell_type": "markdown",
   "metadata": {
    "id": "GP5vAn7LbvQO"
   },
   "source": [
    "## 8. Realice un análisis de los residuos."
   ]
  },
  {
   "cell_type": "code",
   "execution_count": 28,
   "metadata": {
    "id": "rzmUYreab3zs"
   },
   "outputs": [
    {
     "data": {
      "image/png": "[encoded data removed]",
      "text/plain": [
       "<Figure size 640x480 with 1 Axes>"
      ]
     },
     "metadata": {},
     "output_type": "display_data"
    }
   ],
   "source": [
    "import pandas as pd\n",
    "import matplotlib.pyplot as plt\n",
    "from sklearn.linear_model import LinearRegression\n",
    "from sklearn.preprocessing import LabelEncoder\n",
    "\n",
    "\n",
    "data = pd.read_csv(\"./src/datos_.csv\")\n",
    "le = LabelEncoder()\n",
    "\n",
    "data[\"sex_aux\"] = le.fit_transform(data[\"sex\"])\n",
    "data[\"smoker_aux\"] = le.fit_transform(data[\"smoker\"])\n",
    "data[\"region_aux\"] = le.fit_transform(data[\"region\"])\n",
    "\n",
    "X = data[[\"age\", \"sex_aux\", \"bmi\", \"children\", \"smoker_aux\", \"region_aux\"]]\n",
    "y = data[\"expenses\"]\n",
    "\n",
    "model = LinearRegression()\n",
    "model.fit(X, y)\n",
    "\n",
    "y_pred = model.predict(X)\n",
    "residuals = y - y_pred\n",
    "\n",
    "plt.scatter(y_pred, residuals)\n",
    "plt.xlabel(\"Valores ajustados\")\n",
    "plt.ylabel(\"Residuos\")\n",
    "plt.title(\"Gráfico de residuos vs. valores ajustados\")\n",
    "plt.show()"
   ]
  },
  {
   "cell_type": "markdown",
   "metadata": {
    "id": "PUcFt_FHhvxj"
   },
   "source": [
    "## 9. Incluya una nueva variable al modelo, la interacción entre las variables Fumador y BMI. Calcule el coeficiente de determinación para este modelo. Explique los resultados obtenidos."
   ]
  },
  {
   "cell_type": "code",
   "execution_count": 30,
   "metadata": {
    "id": "XKrkoTKEib4A"
   },
   "outputs": [
    {
     "name": "stdout",
     "output_type": "stream",
     "text": [
      "Coeficiente de determinación con interacción: 0.840811288288523\n"
     ]
    }
   ],
   "source": [
    "import pandas as pd\n",
    "from sklearn.linear_model import LinearRegression\n",
    "from sklearn.preprocessing import LabelEncoder\n",
    "\n",
    "data = pd.read_csv(\"./src/datos_.csv\")\n",
    "le = LabelEncoder()\n",
    "\n",
    "data[\"sex_aux\"] = le.fit_transform(data[\"sex\"])\n",
    "data[\"smoker_aux\"] = le.fit_transform(data[\"smoker\"])\n",
    "data[\"region_aux\"] = le.fit_transform(data[\"region\"])\n",
    "data[\"smoker_bmi\"] = data[\"smoker_aux\"] * data[\"bmi\"]\n",
    "\n",
    "X = data[\n",
    "    [\"age\", \"sex_aux\", \"bmi\", \"children\", \"smoker_aux\", \"region_aux\", \"smoker_bmi\"]\n",
    "]\n",
    "y = data[\"expenses\"]\n",
    "\n",
    "model = LinearRegression()\n",
    "\n",
    "model.fit(X, y)\n",
    "\n",
    "r_squared = model.score(X, y)\n",
    "print(\"Coeficiente de determinación con interacción:\", r_squared)"
   ]
  }
 ],
 "metadata": {
  "colab": {
   "provenance": []
  },
  "kernelspec": {
   "display_name": "ms_3",
   "language": "python",
   "name": "python3"
  },
  "language_info": {
   "codemirror_mode": {
    "name": "ipython",
    "version": 3
   },
   "file_extension": ".py",
   "mimetype": "text/x-python",
   "name": "python",
   "nbconvert_exporter": "python",
   "pygments_lexer": "ipython3",
   "version": "3.11.10"
  }
 },
 "nbformat": 4,
 "nbformat_minor": 0
}
