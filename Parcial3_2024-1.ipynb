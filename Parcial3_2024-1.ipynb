{
 "cells": [
  {
   "cell_type": "markdown",
   "metadata": {
    "id": "2_fUc94bLCqv"
   },
   "source": [
    "## Indique aquí Cédula, Nombres y apellidos"
   ]
  },
  {
   "cell_type": "markdown",
   "metadata": {},
   "source": []
  },
  {
   "cell_type": "markdown",
   "metadata": {
    "id": "m_Tn5M1_KjlD"
   },
   "source": [
    "# Trabajo de Estadística Matemáticas\n",
    "\n",
    "*   Fecha de entrega: 06/12/2024.\n",
    "\n",
    "El archivo data.csv incluye un número de ejemplos de beneficiarios inscritos en un plan de seguro indicando las características del paciente, así como el total de gastos médicos cargados (charges) al plan para el año calendario.\n",
    "\n",
    "Las características son:\n",
    "\n",
    "* Edad (age): un número entero que indica la edad del beneficiario principal (excluyendo los mayores de 64 años, ya que generalmente están cubiertos por el gobierno de Estados Unidos).\n",
    "\n",
    "* Sexo (sex): el sexo del titular de la póliza, ya sea masculino o femenino.\n",
    "\n",
    "* Bmi: el índice de masa corporal. El bmi es igual al peso (en kilogramos) divididos por altura (en metros) al cuadrado. Un bmi ideal está en un rango de 18.5 a 24.9.\n",
    "\n",
    "* Hijos (children): un número entero que indica el número de hijos dependientes cubiertos por el plan de seguro.\n",
    "\n",
    "* Fumador (smoker): una variable categórica que indica si el asegurado fuma regularmente.\n",
    "* Región: el lugar de residencia del beneficiario en los Estados Unidos, dividido en cuatro regiones geográficas: noreste, sureste, suroeste o noroeste.\n",
    "\n",
    "Observe que estas variables pueden estar relacionadas con las facturas de gastos médicos. Por\n",
    "ejemplo, podríamos esperar que las personas mayores y los fumadores estén en mayor riesgo de\n",
    "grandes gastos médicos."
   ]
  },
  {
   "cell_type": "markdown",
   "metadata": {
    "id": "UAHwbco7MCdZ"
   },
   "source": [
    "## 1. Realice una exploración sobre los datos (estadísticas descriptivas)."
   ]
  },
  {
   "cell_type": "code",
   "execution_count": null,
   "metadata": {
    "id": "n9URam69KiE0"
   },
   "outputs": [],
   "source": [
    "## Escriba aquí su repuesta"
   ]
  },
  {
   "cell_type": "markdown",
   "metadata": {
    "id": "e-5LZvA7MV-k"
   },
   "source": [
    "## 2. Calcule la relación entre las variables (matriz de correlaciones)."
   ]
  },
  {
   "cell_type": "code",
   "execution_count": null,
   "metadata": {
    "id": "jXzCcHLCM4LJ"
   },
   "outputs": [],
   "source": [
    "## Escriba aquí su repuesta"
   ]
  },
  {
   "cell_type": "markdown",
   "metadata": {
    "id": "eD8EgGwzM71x"
   },
   "source": [
    "## 3. Visualice la relación entre las variables (gráficos)."
   ]
  },
  {
   "cell_type": "code",
   "execution_count": null,
   "metadata": {
    "id": "zD0Zko0KM28P"
   },
   "outputs": [],
   "source": [
    "## Escriba aquí su repuesta"
   ]
  },
  {
   "cell_type": "markdown",
   "metadata": {
    "id": "zKsPzkP-NGoQ"
   },
   "source": [
    "## 4. Contraste la hipótesis de que en las 4 regiones se tiene en promedio el mismo índice de masa corporal bmi (Análisis de varianzas)."
   ]
  },
  {
   "cell_type": "code",
   "execution_count": null,
   "metadata": {
    "id": "iAJKgIR4NNFs"
   },
   "outputs": [],
   "source": [
    "import pandas as pd\n",
    "from sklearn.feature_extraction import DictVectorizer\n",
    "from sklearn.model_selection import train_test_split\n",
    "from sklearn.linear_model import LinearRegression\n",
    "from sklearn.feature_selection import f_regression\n",
    "\n",
    "data = pd.read_csv(\"./src/datos_.csv\")\n",
    "\n",
    "\n",
    "X = data[[\"region\"]]\n",
    "y = data[\"bmi\"]\n",
    "vec = DictVectorizer(sparse=False)\n",
    "X = vec.fit_transform(X.to_dict(\"records\"))\n",
    "\n",
    "X_train, X_test, y_train, y_test = train_test_split(X, y, test_size=0.2)\n",
    "\n",
    "model = LinearRegression()\n",
    "model.fit(X_train, y_train)\n",
    "\n",
    "F_statistic, p_values = f_regression(X, y)\n",
    "\n",
    "print(\"F-statistic:\", F_statistic)\n",
    "print(\"p-values:\", p_values)"
   ]
  },
  {
   "cell_type": "markdown",
   "metadata": {
    "id": "hrZl7j9nNhUg"
   },
   "source": [
    "## 5. Obtenga un modelo lineal que pueda predecir el total de gastos médicos cargados para un beneficiario."
   ]
  },
  {
   "cell_type": "code",
   "execution_count": null,
   "metadata": {
    "id": "-f_8wuv4NpEz"
   },
   "outputs": [],
   "source": [
    "## Escriba aquí su repuesta"
   ]
  },
  {
   "cell_type": "markdown",
   "metadata": {
    "id": "6ky0uyBhNxBB"
   },
   "source": [
    "## 6. Contraste la hipótesis $H_0: \\beta_i=0$ vs $H_1: \\beta_i\\neq 0$. Donde son los coeficientes del modelo."
   ]
  },
  {
   "cell_type": "code",
   "execution_count": null,
   "metadata": {
    "id": "HRmjKSHgOVB_"
   },
   "outputs": [],
   "source": [
    "import pandas as pd\n",
    "import statsmodels.formula.api as sm\n",
    "\n",
    "data = pd.read_csv(\"./src/datos_.csv\")\n",
    "\n",
    "data = pd.get_dummies(data, columns=[\"sex\", \"smoker\", \"region\"], drop_first=True)\n",
    "\n",
    "model = sm.ols(\n",
    "    \"expenses ~ age + sex_male + bmi + children + smoker_yes + region_northwest + region_southeast + region_southwest\",\n",
    "    data=data,\n",
    ").fit()\n",
    "\n",
    "print(model.summary())\n",
    "\n",
    "significance_level = 0.05\n",
    "\n",
    "for coefficient in model.pvalues.index:\n",
    "    p_valor = model.pvalues[coefficient]\n",
    "    if p_valor < significance_level:\n",
    "        print(f\"\\nSe rechaza H0 para el coeficiente de '{coefficient}'.\")\n",
    "        print(\n",
    "            f\"Hay evidencia de que '{coefficient}' tiene un efecto significativo en 'expenses'.\"\n",
    "        )\n",
    "    else:\n",
    "        print(f\"\\nNo se rechaza H0 para el coeficiente de '{coefficient}'.\")\n",
    "        print(\n",
    "            f\"No hay suficiente evidencia para afirmar que '{coefficient}' tiene un efecto significativo en 'expenses'.\""
   ]
  },
  {
   "cell_type": "markdown",
   "metadata": {
    "id": "PWkj9ps2OcDR"
   },
   "source": [
    "## 7. Calcule el coeficiente de determinación."
   ]
  },
  {
   "cell_type": "code",
   "execution_count": null,
   "metadata": {
    "id": "iElhuYCFbsVi"
   },
   "outputs": [],
   "source": [
    "import pandas as pd\n",
    "from sklearn.linear_model import LinearRegression\n",
    "from sklearn.preprocessing import LabelEncoder\n",
    "\n",
    "data = pd.read_csv(\"./src/lib/datos_.csv\")\n",
    "le = LabelEncoder()\n",
    "\n",
    "data[\"sex_aux\"] = le.fit_transform(data[\"sex\"])\n",
    "data[\"smoker_aux\"] = le.fit_transform(data[\"smoker\"])\n",
    "data[\"region_aux\"] = le.fit_transform(data[\"region\"])\n",
    "\n",
    "\n",
    "X = data[[\"age\", \"sex_aux\", \"bmi\", \"children\", \"smoker_aux\", \"region_aux\"]]\n",
    "y = data[\"expenses\"]\n",
    "\n",
    "model = LinearRegression()\n",
    "model.fit(X, y)\n",
    "\n",
    "r_squared = model.score(X, y)\n",
    "\n",
    "print(\"Coeficiente de determinación:\", r_squared)"
   ]
  },
  {
   "cell_type": "markdown",
   "metadata": {
    "id": "GP5vAn7LbvQO"
   },
   "source": [
    "## 8. Realice un análisis de los residuos."
   ]
  },
  {
   "cell_type": "code",
   "execution_count": null,
   "metadata": {
    "id": "rzmUYreab3zs"
   },
   "outputs": [],
   "source": [
    "import pandas as pd\n",
    "import matplotlib.pyplot as plt\n",
    "from sklearn.linear_model import LinearRegression\n",
    "from sklearn.preprocessing import LabelEncoder\n",
    "\n",
    "\n",
    "data = pd.read_csv(\"./src/lib/datos_.csv\")\n",
    "le = LabelEncoder()\n",
    "\n",
    "data[\"sex_aux\"] = le.fit_transform(data[\"sex\"])\n",
    "data[\"smoker_aux\"] = le.fit_transform(data[\"smoker\"])\n",
    "data[\"region_aux\"] = le.fit_transform(data[\"region\"])\n",
    "\n",
    "X = data[[\"age\", \"sex_aux\", \"bmi\", \"children\", \"smoker_aux\", \"region_aux\"]]\n",
    "y = data[\"expenses\"]\n",
    "\n",
    "model = LinearRegression()\n",
    "model.fit(X, y)\n",
    "\n",
    "y_pred = model.predict(X)\n",
    "residuals = y - y_pred\n",
    "\n",
    "plt.scatter(y_pred, residuals)\n",
    "plt.xlabel(\"Valores ajustados\")\n",
    "plt.ylabel(\"Residuos\")\n",
    "plt.title(\"Gráfico de residuos vs. valores ajustados\")\n",
    "plt.show()"
   ]
  },
  {
   "cell_type": "markdown",
   "metadata": {
    "id": "PUcFt_FHhvxj"
   },
   "source": [
    "## 9. Incluya una nueva variable al modelo, la interacción entre las variables Fumador y BMI. Calcule el coeficiente de determinación para este modelo. Explique los resultados obtenidos."
   ]
  },
  {
   "cell_type": "code",
   "execution_count": null,
   "metadata": {
    "id": "XKrkoTKEib4A"
   },
   "outputs": [],
   "source": [
    "import pandas as pd\n",
    "from sklearn.linear_model import LinearRegression\n",
    "from sklearn.preprocessing import LabelEncoder\n",
    "\n",
    "data = pd.read_csv(\"./src/lib/datos_.csv\")\n",
    "le = LabelEncoder()\n",
    "\n",
    "data[\"sex_aux\"] = le.fit_transform(data[\"sex\"])\n",
    "data[\"smoker_aux\"] = le.fit_transform(data[\"smoker\"])\n",
    "data[\"region_aux\"] = le.fit_transform(data[\"region\"])\n",
    "data[\"smoker_bmi\"] = data[\"smoker_aux\"] * data[\"bmi\"]\n",
    "\n",
    "X = data[\n",
    "    [\"age\", \"sex_aux\", \"bmi\", \"children\", \"smoker_aux\", \"region_aux\", \"smoker_bmi\"]\n",
    "]\n",
    "y = data[\"expenses\"]\n",
    "\n",
    "model = LinearRegression()\n",
    "\n",
    "model.fit(X, y)\n",
    "\n",
    "r_squared = model.score(X, y)\n",
    "print(\"Coeficiente de determinación con interacción:\", r_squared)"
   ]
  }
 ],
 "metadata": {
  "colab": {
   "provenance": []
  },
  "kernelspec": {
   "display_name": "Python 3",
   "name": "python3"
  },
  "language_info": {
   "name": "python"
  }
 },
 "nbformat": 4,
 "nbformat_minor": 0
}
